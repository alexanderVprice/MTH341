{
 "cells": [
  {
   "cell_type": "markdown",
   "metadata": {},
   "source": [
    "Inclass Example"
   ]
  },
  {
   "cell_type": "code",
   "execution_count": 5,
   "metadata": {},
   "outputs": [
    {
     "name": "stdout",
     "output_type": "stream",
     "text": [
      "[[  9  -7]\n",
      " [ -4   0]\n",
      " [ 19 -13]]\n"
     ]
    }
   ],
   "source": [
    "import numpy as np\n",
    "A = np.array(([2,-1],[3,2],[2,-3]))\n",
    "B = np.array(([2,-2],[-5,3]))\n",
    "C = A@B\n",
    "print(C)"
   ]
  },
  {
   "cell_type": "markdown",
   "metadata": {},
   "source": [
    "1. \n",
    "i) solve the system by hand\n",
    "ii) check using np.linalg.solve(A,B)"
   ]
  },
  {
   "cell_type": "code",
   "execution_count": 1,
   "metadata": {},
   "outputs": [
    {
     "name": "stdout",
     "output_type": "stream",
     "text": [
      "[ 3.  2. -1.]\n"
     ]
    }
   ],
   "source": [
    "import numpy as np\n",
    "A = np.array([[2,3,3],[1,3,1],[-2,-4,-4]])\n",
    "b = np.array([9,8,-10])\n",
    "print(np.linalg.solve(A,b))"
   ]
  },
  {
   "cell_type": "markdown",
   "metadata": {},
   "source": [
    "2. \n",
    "i create matrix A\n",
    "ii create 4 vectors containing the columns of A; put them together to form a new variable equal to A using np.column_stack\n",
    "iii create 3 vectors containing the rows of A; put them together to form a new variable equalt o A using np.row_stack"
   ]
  },
  {
   "cell_type": "code",
   "execution_count": 6,
   "metadata": {},
   "outputs": [
    {
     "name": "stdout",
     "output_type": "stream",
     "text": [
      "[[ 0.  -2.3  0.  -2. ]\n",
      " [ 1.  -2.   0.   0. ]\n",
      " [ 0.   0.   4.3  5. ]]\n",
      "\n",
      "\n",
      "[[ 0.  -2.3  0.  -2. ]\n",
      " [ 1.  -2.   0.   0. ]\n",
      " [ 0.   0.   4.3  5. ]]\n",
      "\n",
      "\n",
      "[[ 0.  -2.3  0.  -2. ]\n",
      " [ 1.  -2.   0.   0. ]\n",
      " [ 0.   0.   4.3  5. ]]\n"
     ]
    }
   ],
   "source": [
    "import numpy as np\n",
    "A = np.array([(0,-2.3,0,-2),(1,-2,0,0),(0,0,4.3,5)])\n",
    "print(A)\n",
    "print(\"\\n\")\n",
    "c1 = np.array([0, 1, 0])\n",
    "c2 = np.array([-2.3, -2, 0])\n",
    "c3 = np.array([0, 0, 4.3])\n",
    "c4 = np.array([-2, 0, 5])\n",
    "print(np.column_stack((c1,c2,c3,c4)))\n",
    "print(\"\\n\")\n",
    "r1 = np.array([0,-2.3,0,-2])\n",
    "r2 = np.array([1,-2,0,0])\n",
    "r3 = np.array([0,0,4.3,5])\n",
    "print(np.row_stack((r1,r2,r3)))\n"
   ]
  },
  {
   "cell_type": "markdown",
   "metadata": {},
   "source": [
    "3. Given Matricies A, B, C\n",
    "\n",
    "i) which is defined? AB, BA, AC, CA, BC, CB\n",
    "ii) chose two products that are defined and compute by hand\n",
    "iii) enter each as arrays and verify your calculations"
   ]
  },
  {
   "cell_type": "code",
   "execution_count": 17,
   "metadata": {},
   "outputs": [
    {
     "name": "stdout",
     "output_type": "stream",
     "text": [
      "AC =  [[ 4.   9. ]\n",
      " [ 3.5 22.5]]\n",
      "\n",
      "\n",
      "BA =  [[ -2.  -7.   5.]\n",
      " [ 14.  14. -15.]]\n"
     ]
    }
   ],
   "source": [
    "import numpy as np\n",
    "A = np.array([[2,0,-1],[2,3.5,-3]])\n",
    "B = np.array([[1,-2],[3,4]])\n",
    "C = np.array([[3,2],[1,1],[2,-5]])\n",
    "\n",
    "print(\"AC = \",A@C)\n",
    "print('\\n')\n",
    "print(\"BA = \",B@A)\n",
    "\n"
   ]
  },
  {
   "cell_type": "markdown",
   "metadata": {},
   "source": [
    "4. Given Matricies A and B\n",
    "i. enter as numpy arrays\n",
    "ii) compute AB, AB^T, A^T * B^T, and B^T * A^T transpose; confirmt that AB transpose = BT * AT and not A^T * B^T"
   ]
  },
  {
   "cell_type": "code",
   "execution_count": 14,
   "metadata": {},
   "outputs": [
    {
     "name": "stdout",
     "output_type": "stream",
     "text": [
      "\n",
      "\n",
      "[[-3  0 -3  4 -2]\n",
      " [ 1 -2 -1  2  0]\n",
      " [ 2  2  1  0  0]\n",
      " [ 1 -3  3 -1  3]\n",
      " [ 0  2 -4  0  3]]\n",
      "\n",
      "\n",
      "AB\n",
      "[[ 9  0  0 12  8]\n",
      " [ 3  4  4  0  0]\n",
      " [-4  2 -2  0  0]\n",
      " [ 0 -6 12  4  6]\n",
      " [ 0  4 12  0  9]]\n",
      "\n",
      "\n",
      "ABT\n",
      "[[ 9  3 -4  0  0]\n",
      " [ 0  4  2 -6  4]\n",
      " [ 0  4 -2 12 12]\n",
      " [12  0  0  4  0]\n",
      " [ 8  0  0  6  9]]\n",
      "\n",
      "\n",
      "BT*AT\n",
      "[[ 9  3 -4  0  0]\n",
      " [ 0  4  2 -6  4]\n",
      " [ 0  4 -2 12 12]\n",
      " [12  0  0  4  0]\n",
      " [ 8  0  0  6  9]]\n",
      "\n",
      "\n",
      "AT*BT\n",
      "[[ 9  3 -4  0  0]\n",
      " [ 0  4  2 -6  4]\n",
      " [ 0  4 -2 12 12]\n",
      " [12  0  0  4  0]\n",
      " [ 8  0  0  6  9]]\n",
      "\n",
      "\n",
      "x\n",
      "\n",
      "[-0.60377358 -1.1509434  -4.98113208 -7.35849057 -5.60377358]\n",
      "x2 = \n",
      "[[ 2.50000000e+00 -0.00000000e+00 -6.00000000e+00  4.37500000e-01\n",
      "   3.00000000e+00]\n",
      " [-3.35526316e+00 -0.00000000e+00  7.89473684e-01  1.26151316e+00\n",
      "  -5.22631579e+00]\n",
      " [-2.28947368e+00 -0.00000000e+00  4.42105263e+00  6.01973684e-01\n",
      "  -5.14736842e+00]\n",
      " [-2.75000000e+00  0.00000000e+00 -1.27821730e-17  1.34375000e+00\n",
      "  -4.50000000e+00]\n",
      " [-2.81578947e+00  0.00000000e+00  2.36842105e+00 -3.71710526e-01\n",
      "  -9.78947368e-01]]\n"
     ]
    }
   ],
   "source": [
    "a1 = np.array([-3, 1, -0, 3, -4])\n",
    "a2 = np.array([3, -2, -4, 0, 4])\n",
    "a3 = np.array([-2, 1, -2, 4, -4])\n",
    "a4 = np.array([0, 2, 4, -4, 2])\n",
    "a5 = np.array([-3, 2, -3, -1, 3])\n",
    "A = np.row_stack((a1, a2, a3, a4, a5))\n",
    "#print(A)\n",
    "print(\"\\n\")\n",
    "b1 = np.array([-3, 0, -3, 4, -2])\n",
    "b2 = np.array([1, -2, -1, 2, 0])\n",
    "b3 = np.array([2, 2, 1, 0, 0])\n",
    "b4 = np.array([1, -3, 3, -1, 3])\n",
    "b5 = np.array([0, 2, -4, 0, 3])\n",
    "B = np.row_stack((b1, b2, b3, b4, b5))\n",
    "print(B)\n",
    "print(\"\\n\")\n",
    "\n",
    "print(\"AB\")\n",
    "AB = A * B\n",
    "print(AB)\n",
    "print(\"\\n\")\n",
    "\n",
    "ABT = np.transpose(AB)\n",
    "print(\"ABT\")\n",
    "print(ABT)\n",
    "print(\"\\n\")\n",
    "\n",
    "AT = np.transpose(A)\n",
    "BT = np.transpose(B)\n",
    "ATBT = AT*BT\n",
    "BTAT = BT*AT\n",
    "\n",
    "print(\"BT*AT\")\n",
    "print(BTAT)\n",
    "print(\"\\n\")\n",
    "\n",
    "print(\"AT*BT\")\n",
    "print(ATBT)\n",
    "print(\"\\n\")\n",
    "\n",
    "print(\"x\\n\")\n",
    "x = np.linalg.solve(A,np.array([1, -2, 3, -4, 5]))\n",
    "print(x)\n",
    "\n",
    "v = np.array([2,0,3,1,2.4])\n",
    "Av = A*v\n",
    "x2 = np.linalg.solve(B,Av)\n",
    "print(\"x2 = \")\n",
    "print(x2)\n",
    "\n"
   ]
  },
  {
   "cell_type": "markdown",
   "metadata": {},
   "source": []
  }
 ],
 "metadata": {
  "interpreter": {
   "hash": "ee5cc6fef2d70a7e71ee3826687cbd150f18158e0b1eef11d4f4f92bb920e304"
  },
  "kernelspec": {
   "display_name": "Python 3.9.1 64-bit",
   "language": "python",
   "name": "python3"
  },
  "language_info": {
   "codemirror_mode": {
    "name": "ipython",
    "version": 3
   },
   "file_extension": ".py",
   "mimetype": "text/x-python",
   "name": "python",
   "nbconvert_exporter": "python",
   "pygments_lexer": "ipython3",
   "version": "3.8.3"
  },
  "orig_nbformat": 4
 },
 "nbformat": 4,
 "nbformat_minor": 2
}
