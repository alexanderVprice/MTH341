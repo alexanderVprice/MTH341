{
 "cells": [
  {
   "cell_type": "markdown",
   "metadata": {},
   "source": [
    "Inclass Example"
   ]
  },
  {
   "cell_type": "code",
   "execution_count": 5,
   "metadata": {},
   "outputs": [
    {
     "name": "stdout",
     "output_type": "stream",
     "text": [
      "[[  9  -7]\n",
      " [ -4   0]\n",
      " [ 19 -13]]\n"
     ]
    }
   ],
   "source": [
    "import numpy as np\n",
    "A = np.array(([2,-1],[3,2],[2,-3]))\n",
    "B = np.array(([2,-2],[-5,3]))\n",
    "C = A@B\n",
    "print(C)"
   ]
  },
  {
   "cell_type": "markdown",
   "metadata": {},
   "source": [
    "Example 2 (partitioning?)"
   ]
  },
  {
   "cell_type": "code",
   "execution_count": null,
   "metadata": {},
   "outputs": [],
   "source": []
  },
  {
   "cell_type": "markdown",
   "metadata": {},
   "source": [
    "Example 3 (non commutativity)"
   ]
  },
  {
   "cell_type": "code",
   "execution_count": null,
   "metadata": {},
   "outputs": [],
   "source": []
  },
  {
   "cell_type": "markdown",
   "metadata": {},
   "source": [
    "i) solve the system by hand\n",
    "ii) check using np.linalg.solve(A,B)"
   ]
  },
  {
   "cell_type": "code",
   "execution_count": 7,
   "metadata": {},
   "outputs": [
    {
     "name": "stdout",
     "output_type": "stream",
     "text": [
      "[ 3.  2. -1.]\n"
     ]
    }
   ],
   "source": [
    "import numpy as np\n",
    "A = np.array([[2,3,3],[1,3,1],[-2,-4,-4]])\n",
    "b = np.array([9,8,-10])\n",
    "print(np.linalg.solve(A,b))"
   ]
  },
  {
   "cell_type": "markdown",
   "metadata": {},
   "source": [
    "i column stack\n",
    "ii row stack"
   ]
  },
  {
   "cell_type": "code",
   "execution_count": 16,
   "metadata": {},
   "outputs": [
    {
     "name": "stdout",
     "output_type": "stream",
     "text": [
      "[[ 0.   1.   0. ]\n",
      " [-2.3 -2.   0. ]\n",
      " [ 0.   0.   4.3]\n",
      " [-2.   0.   5. ]]\n"
     ]
    }
   ],
   "source": [
    "import numpy as np\n",
    "A = np.array([(0,-2.3,0,-2),(1,-2,0,0),(0,0,4.3,5)])\n",
    "print(np.column_stack((A[0],A[1],A[2])))\n"
   ]
  },
  {
   "cell_type": "markdown",
   "metadata": {},
   "source": [
    "i) which is defined? AB, BA, AC, CA, BC, CB\n",
    "ii) chose two products that are defined and compute by hand\n",
    "iii) enter each as arrays and verify your calculations"
   ]
  },
  {
   "cell_type": "code",
   "execution_count": 17,
   "metadata": {},
   "outputs": [
    {
     "name": "stdout",
     "output_type": "stream",
     "text": [
      "AC =  [[ 4.   9. ]\n",
      " [ 3.5 22.5]]\n",
      "\n",
      "\n",
      "BA =  [[ -2.  -7.   5.]\n",
      " [ 14.  14. -15.]]\n"
     ]
    }
   ],
   "source": [
    "import numpy as np\n",
    "A = np.array([[2,0,-1],[2,3.5,-3]])\n",
    "B = np.array([[1,-2],[3,4]])\n",
    "C = np.array([[3,2],[1,1],[2,-5]])\n",
    "\n",
    "print(\"AC = \",A@C)\n",
    "print('\\n')\n",
    "print(\"BA = \",B@A)\n",
    "\n"
   ]
  },
  {
   "cell_type": "markdown",
   "metadata": {},
   "source": []
  },
  {
   "cell_type": "code",
   "execution_count": null,
   "metadata": {},
   "outputs": [],
   "source": []
  },
  {
   "cell_type": "markdown",
   "metadata": {},
   "source": []
  }
 ],
 "metadata": {
  "interpreter": {
   "hash": "ee5cc6fef2d70a7e71ee3826687cbd150f18158e0b1eef11d4f4f92bb920e304"
  },
  "kernelspec": {
   "display_name": "Python 3.9.1 64-bit",
   "language": "python",
   "name": "python3"
  },
  "language_info": {
   "codemirror_mode": {
    "name": "ipython",
    "version": 3
   },
   "file_extension": ".py",
   "mimetype": "text/x-python",
   "name": "python",
   "nbconvert_exporter": "python",
   "pygments_lexer": "ipython3",
   "version": "3.9.1"
  },
  "orig_nbformat": 4
 },
 "nbformat": 4,
 "nbformat_minor": 2
}
