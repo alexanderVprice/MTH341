{
 "cells": [
  {
   "cell_type": "markdown",
   "metadata": {},
   "source": [
    "# <div align=\"center\"> MTH341 In-Class 3\n",
    "#### <div align=\"center\"> Python Linear-System Solver, Polynomial interpolation\n",
    "<div align=\"right\"> Alexander Price"
   ]
  },
  {
   "cell_type": "markdown",
   "metadata": {},
   "source": [
    "#### <div align=\"center\"> Linear-System Solver"
   ]
  },
  {
   "cell_type": "markdown",
   "metadata": {},
   "source": [
    "#### Exercise 1\n",
    "Find the solutions to the following linear system:\n",
    "```\n",
    "7x - 2y + 5z =   3\n",
    "      y +  z = -12\n",
    " x - 2y - 3z =   2\n",
    " ```\n"
   ]
  },
  {
   "cell_type": "code",
   "execution_count": null,
   "metadata": {},
   "outputs": [],
   "source": [
    "import numpy as np"
   ]
  },
  {
   "cell_type": "markdown",
   "metadata": {},
   "source": [
    "#### <div align=\"center\"> Polynomial Interplation"
   ]
  },
  {
   "cell_type": "markdown",
   "metadata": {},
   "source": [
    "#### Exercise 2\n",
    "Find the quadratic polynomial that pases through the points\n",
    "```\n",
    "(1.4, 6),\n",
    "(2.1, 3),\n",
    "(3.9, 4)\n",
    "``` "
   ]
  },
  {
   "cell_type": "code",
   "execution_count": null,
   "metadata": {},
   "outputs": [],
   "source": [
    "import numpy as np"
   ]
  },
  {
   "cell_type": "markdown",
   "metadata": {},
   "source": [
    "#### Exercise 3\n",
    "Write a python function that takes as its argument 3 ordered pairs (they may be either tuples or vecgtors), and returns a vector containing the coefficients of the quadratic polynomial that passes through these three 3 points"
   ]
  },
  {
   "cell_type": "code",
   "execution_count": null,
   "metadata": {},
   "outputs": [],
   "source": [
    "import numpy as np"
   ]
  },
  {
   "cell_type": "markdown",
   "metadata": {},
   "source": [
    "#### Exercise 4\n",
    "Extend this concept to the cubic polynomial passing through 4 points and determine the cubic polynomial that goes through the points\n",
    "```\n",
    "( 1, 3.4 ),\n",
    "( 2, 1.8 ),\n",
    "( 3, 2.1 ),\n",
    "( 4, 6.7 )\n",
    "``` \n",
    "Using either matplotlib in python (or in desmos), graph the cubic polynomial and all 4 of these points."
   ]
  },
  {
   "cell_type": "code",
   "execution_count": null,
   "metadata": {},
   "outputs": [],
   "source": [
    "import numpy as np"
   ]
  }
 ],
 "metadata": {
  "interpreter": {
   "hash": "63fd5069d213b44bf678585dea6b12cceca9941eaf7f819626cde1f2670de90d"
  },
  "kernelspec": {
   "display_name": "Python 3.9.1 64-bit",
   "language": "python",
   "name": "python3"
  },
  "language_info": {
   "codemirror_mode": {
    "name": "ipython",
    "version": 3
   },
   "file_extension": ".py",
   "mimetype": "text/x-python",
   "name": "python",
   "nbconvert_exporter": "python",
   "pygments_lexer": "ipython3",
   "version": "3.8.3"
  },
  "orig_nbformat": 4
 },
 "nbformat": 4,
 "nbformat_minor": 2
}
