{
 "cells": [
  {
   "cell_type": "markdown",
   "metadata": {},
   "source": [
    "# <div align=\"center\"> MTH341 In-Class 3\n",
    "#### <div align=\"center\"> Python Linear-System Solver, Polynomial interpolation\n",
    "<div align=\"right\"> Alexander Price"
   ]
  },
  {
   "cell_type": "markdown",
   "metadata": {},
   "source": [
    "#### <div align=\"center\"> Linear-System Solver"
   ]
  },
  {
   "cell_type": "markdown",
   "metadata": {},
   "source": [
    "#### Exercise 1\n",
    "Find the solutions to the following linear system:\n",
    "```\n",
    "7x - 2y + 5z =   3\n",
    "      y +  z = -12\n",
    " x - 2y - 3z =   2\n",
    " ```\n"
   ]
  },
  {
   "cell_type": "code",
   "execution_count": 5,
   "metadata": {},
   "outputs": [
    {
     "name": "stdout",
     "output_type": "stream",
     "text": [
      "x =  -12.5\n",
      "y =  -21.5\n",
      "z =  9.5\n"
     ]
    }
   ],
   "source": [
    "import numpy as np\n",
    "\n",
    "s = np.array([[7,-2,5],[0,1,1],[1,-2,-3]])\n",
    "v = np.array([3,-12,2])\n",
    "xyz = np.linalg.solve(s,v)\n",
    "print(\"x = \",round(xyz[0],2))\n",
    "print(\"y = \",round(xyz[1],2))\n",
    "print(\"z = \",round(xyz[2],2))"
   ]
  },
  {
   "cell_type": "markdown",
   "metadata": {},
   "source": [
    "#### <div align=\"center\"> Polynomial Interplation"
   ]
  },
  {
   "cell_type": "markdown",
   "metadata": {},
   "source": [
    "#### Exercise 2\n",
    "Find the quadratic polynomial that pases through the points\n",
    "```\n",
    "(1.4, 6),\n",
    "(2.1, 3),\n",
    "(3.9, 4)\n",
    "``` "
   ]
  },
  {
   "cell_type": "code",
   "execution_count": 8,
   "metadata": {},
   "outputs": [
    {
     "name": "stdout",
     "output_type": "stream",
     "text": [
      "a =  1.94\n",
      "b =  -11.06\n",
      "c =  17.69\n"
     ]
    }
   ],
   "source": [
    "import numpy as np\n",
    "x0 = np.array([1,1,1])\n",
    "x1 = np.array([1.4,2.1,3.9])\n",
    "x2 = np.array(x1**2)\n",
    "s = np.array([[x2[0],x1[0],x0[0]],[x2[1],x1[1],x0[1]],[x2[2],x1[2],x0[2]]])\n",
    "y = np.array([6,3,4])\n",
    "abc = np.linalg.solve(s,y)\n",
    "print(\"a = \",round(abc[0],2))\n",
    "print(\"b = \",round(abc[1],2))\n",
    "print(\"c = \",round(abc[2],2))\n",
    "\n",
    "\n",
    "\n"
   ]
  },
  {
   "cell_type": "markdown",
   "metadata": {},
   "source": [
    "#### Exercise 3\n",
    "Write a python function that takes as its argument 3 ordered pairs (they may be either tuples or vecgtors), and returns a vector containing the coefficients of the quadratic polynomial that passes through these three 3 points"
   ]
  },
  {
   "cell_type": "code",
   "execution_count": 9,
   "metadata": {},
   "outputs": [
    {
     "name": "stdout",
     "output_type": "stream",
     "text": [
      "a =  1.94\n",
      "b =  -11.06\n",
      "c =  17.69\n"
     ]
    }
   ],
   "source": [
    "import matplotlib.pyplot as plt\n",
    "import numpy as np\n",
    "def quadraticCoefficients(p1,p2,p3):\n",
    "    x0 = np.array([1,1,1])\n",
    "    x1 = np.array([p1[0],p2[0],p3[0]])\n",
    "    x2 = np.array(x1**2)\n",
    "    s = np.array([[x2[0],x1[0],x0[0]],[x2[1],x1[1],x0[1]],[x2[2],x1[2],x0[2]]])\n",
    "    y = np.array([p1[1],p2[1],p3[1]])\n",
    "    abc = np.linalg.solve(s,y)\n",
    "    return abc\n",
    "    \n",
    "abc = quadraticCoefficients((1.4,6),(2.1,3),(3.9,4))\n",
    "print(\"a = \",round(abc[0],2))\n",
    "print(\"b = \",round(abc[1],2))\n",
    "print(\"c = \",round(abc[2],2))"
   ]
  },
  {
   "cell_type": "markdown",
   "metadata": {},
   "source": [
    "#### Exercise 4\n",
    "Extend this concept to the cubic polynomial passing through 4 points and determine the cubic polynomial that goes through the points\n",
    "```\n",
    "( 1, 3.4 ),\n",
    "( 2, 1.8 ),\n",
    "( 3, 2.1 ),\n",
    "( 4, 6.7 )\n",
    "``` \n",
    "Using either matplotlib in python (or in desmos), graph the cubic polynomial and all 4 of these points."
   ]
  },
  {
   "cell_type": "code",
   "execution_count": 5,
   "metadata": {},
   "outputs": [
    {
     "name": "stdout",
     "output_type": "stream",
     "text": [
      "a =  0.4\n",
      "b =  -1.45\n",
      "c =  -0.05\n",
      "d =  4.5\n"
     ]
    },
    {
     "data": {
      "text/plain": [
       "[<matplotlib.lines.Line2D at 0x14d0a7a89a0>]"
      ]
     },
     "execution_count": 5,
     "metadata": {},
     "output_type": "execute_result"
    },
    {
     "data": {
      "image/png": "[encoded data removed]",
      "text/plain": [
       "<Figure size 432x288 with 1 Axes>"
      ]
     },
     "metadata": {
      "needs_background": "light"
     },
     "output_type": "display_data"
    }
   ],
   "source": [
    "import matplotlib.pyplot as plt\n",
    "import numpy as np\n",
    "\n",
    "x0 = np.array([1,1,1,1])\n",
    "x1 = np.array([1,2,3,4])\n",
    "x2 = np.array(x1**2)\n",
    "x3 = np.array(x1**3)\n",
    "s = np.array(  [  [x3[0],x2[0],x1[0],x0[0] ] , [ x3[1],x2[1],x1[1],x0[1] ] , [ x3[2],x2[2],x1[2],x0[2] ] , [ x3[3],x2[3],x1[3],x0[3] ]  ]  )\n",
    "y = np.array([3.4,1.8,2.1,6.7])\n",
    "abcd = np.linalg.solve(s,y)\n",
    "a = abcd[0]\n",
    "b = abcd[1]\n",
    "c = abcd[2]\n",
    "d = abcd[3]\n",
    "x = np.linspace(0,5,1E3)\n",
    "y = a*x**3 + b*x**2 + c*x + d\n",
    "plt.plot(x,y)\n",
    "plt.plot( 1, 3.4, marker='o')\n",
    "plt.plot( 2, 1.8, marker='o')\n",
    "plt.plot( 3, 2.1, marker='o')\n",
    "plt.plot( 4, 6.7, marker='o')\n"
   ]
  }
 ],
 "metadata": {
  "interpreter": {
   "hash": "63fd5069d213b44bf678585dea6b12cceca9941eaf7f819626cde1f2670de90d"
  },
  "kernelspec": {
   "display_name": "Python 3.9.1 64-bit",
   "language": "python",
   "name": "python3"
  },
  "language_info": {
   "codemirror_mode": {
    "name": "ipython",
    "version": 3
   },
   "file_extension": ".py",
   "mimetype": "text/x-python",
   "name": "python",
   "nbconvert_exporter": "python",
   "pygments_lexer": "ipython3",
   "version": "3.8.3"
  },
  "orig_nbformat": 4
 },
 "nbformat": 4,
 "nbformat_minor": 2
}
