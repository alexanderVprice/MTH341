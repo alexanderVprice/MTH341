{
 "cells": [
  {
   "cell_type": "code",
   "execution_count": 1,
   "metadata": {},
   "outputs": [],
   "source": [
    "import numpy as np"
   ]
  },
  {
   "cell_type": "code",
   "execution_count": 2,
   "metadata": {},
   "outputs": [
    {
     "name": "stdout",
     "output_type": "stream",
     "text": [
      "1)\n",
      "\t  i)  [48  7 -7]\n",
      "\t ii)  [11  7  7]\n",
      "\tiii)  2\n",
      "\t iv)  6.164414002968976\n",
      "\t  v)  87.57917136660888\n"
     ]
    }
   ],
   "source": [
    "#most recent\n",
    "print(\"1)\")\n",
    "v1 = np.array([2,3,5])\n",
    "v2 = np.array([7,1,-3])\n",
    "v3 = np.array([0,2,1])\n",
    "y = 3*v1+6*v2-4*v3\n",
    "print(\"\\t  i) \",y)\n",
    "\n",
    "w = 2*v1+v2\n",
    "print(\"\\t ii) \",w)\n",
    "V1dotV2 = v1@v2\n",
    "print(\"\\tiii) \",V1dotV2)\n",
    "magV1 = np.linalg.norm(v1)\n",
    "print(\"\\t iv) \",magV1)\n",
    "magV2 = np.linalg.norm(v2)\n",
    "\n",
    "angle = np.rad2deg(np.arccos(V1dotV2/(magV1*magV2)))\n",
    "print(\"\\t  v) \",angle)"
   ]
  },
  {
   "cell_type": "code",
   "execution_count": 3,
   "metadata": {},
   "outputs": [
    {
     "name": "stdout",
     "output_type": "stream",
     "text": [
      "2)\n",
      "\t  i)  [1 2] [3 5] [-1  4]\n",
      "\t ii)  [2 3] [-2  2] [-2 -3] [-4 -1] [ 2 -2] [4 1]\n",
      "\tiii)  78.69006752597979 42.27368900609373 59.03624346792648 180.0\n"
     ]
    }
   ],
   "source": [
    "print(\"2)\")\n",
    "A = np.array([1,2])\n",
    "B = np.array([3,5])\n",
    "C = np.array([-1,4])\n",
    "print(\"\\t  i) \",A,B,C)\n",
    "AB=B-A\n",
    "AC=C-A\n",
    "magAB = np.linalg.norm(AB)\n",
    "magAC = np.linalg.norm(AC)\n",
    "angleBAC=np.rad2deg(np.arccos(AB@AC/(magAB*magAC)))\n",
    "\n",
    "BA=A-B\n",
    "BC=C-B\n",
    "magBA = np.linalg.norm(BA)\n",
    "magBC = np.linalg.norm(BC)\n",
    "angleABC=np.rad2deg(np.arccos(BA@BC/(magBA*magBC)))\n",
    "\n",
    "CA=A-C\n",
    "CB=B-C\n",
    "magCA = np.linalg.norm(CA)\n",
    "magCB = np.linalg.norm(CB)\n",
    "angleBCA=np.rad2deg(np.arccos(CA@CB/(magCA*magCB)))\n",
    "print(\"\\t ii) \",AB,AC,BA,BC,CA,CB)\n",
    "sum = angleABC + angleBAC + angleBCA\n",
    "print(\"\\tiii) \",angleBAC,angleABC,angleBCA,sum)"
   ]
  }
 ],
 "metadata": {
  "interpreter": {
   "hash": "63fd5069d213b44bf678585dea6b12cceca9941eaf7f819626cde1f2670de90d"
  },
  "kernelspec": {
   "display_name": "Python 3.9.1 64-bit",
   "language": "python",
   "name": "python3"
  },
  "language_info": {
   "codemirror_mode": {
    "name": "ipython",
    "version": 3
   },
   "file_extension": ".py",
   "mimetype": "text/x-python",
   "name": "python",
   "nbconvert_exporter": "python",
   "pygments_lexer": "ipython3",
   "version": "3.8.3"
  },
  "orig_nbformat": 4
 },
 "nbformat": 4,
 "nbformat_minor": 2
}
