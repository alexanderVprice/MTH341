{
 "cells": [
  {
   "cell_type": "markdown",
   "metadata": {},
   "source": [
    "# <div align=\"center\"> MTH341 In-Class 1\n",
    "#### <div align=\"center\"> Vectors and Matricies in Python/Numpy\n",
    "<div align=\"right\"> Alexander Price"
   ]
  },
  {
   "cell_type": "markdown",
   "metadata": {},
   "source": [
    "## Exercise 1\n",
    "Let v1 = (2,3,5), v2 = (7,1,-3), v3 = (0,2,1)\n",
    "\n",
    "i) Enter these as numpy vectors and compute y = 3v1 + 6v2-5v3. Display it\n",
    "\n",
    "ii) Create a new vector w that is a linear combination of v1 and v3. Display it\n",
    "\n",
    "iii) Compute the dot product v1 * v2. Display it.\n",
    "\n",
    "iv) Compute the norm ||v1|| = sqrt(v1*v2). Display it.\n",
    "    \n",
    "v) Compute the angle between the vector v1 and the vector v2. Convert this to degrees.\n"
   ]
  },
  {
   "cell_type": "code",
   "execution_count": 1,
   "metadata": {},
   "outputs": [
    {
     "name": "stdout",
     "output_type": "stream",
     "text": [
      "  i)  [48  7 -7]\n",
      " ii)  [11  7  7]\n",
      "iii)  2\n",
      " iv)  6.164414002968976\n",
      "  v)  87.57917136660888\n"
     ]
    }
   ],
   "source": [
    "import numpy as np\n",
    "#i)\n",
    "v1 = np.array([2,3,5])\n",
    "v2 = np.array([7,1,-3])\n",
    "v3 = np.array([0,2,1])\n",
    "y = 3*v1+6*v2-4*v3\n",
    "print(\"  i) \",y)\n",
    "#ii)\n",
    "w = 2*v1+v2\n",
    "print(\" ii) \",w)\n",
    "#iii)\n",
    "v1dotv2 = v1@v2\n",
    "print(\"iii) \",v1dotv2)\n",
    "#iv)\n",
    "magV1 = np.linalg.norm(v1)\n",
    "print(\" iv) \",magV1)\n",
    "#v)\n",
    "np.angle\n",
    "magV2 = np.linalg.norm(v2)\n",
    "angle = np.rad2deg(np.arccos(v1@v2/(magV1*magV2)))\n",
    "print(\"  v) \",angle)"
   ]
  },
  {
   "cell_type": "markdown",
   "metadata": {},
   "source": [
    "## Exercise 2\n",
    "Let A,B,C be the points *1,2), (3,5), (-1,4) in the plane\n",
    "\n",
    "i) Create 3 Python arrays named A,B,C that are vectors for these points\\\n",
    "\n",
    "ii) Compute the displacement vectors AB, AC (using Python), and assign these as Python arrays. Use this to calculate the angle BAC of the triangle. Convert to degrees.\n",
    "\n",
    "iii) Using the same process, find the angle ABC and the angle BCA. Check that the sum of these equals 180."
   ]
  },
  {
   "cell_type": "code",
   "execution_count": 30,
   "metadata": {},
   "outputs": [
    {
     "name": "stdout",
     "output_type": "stream",
     "text": [
      "  i) A, B, C :  [1 2] [3 5] [-1  4] \n",
      "\n",
      " ii) BAC =  78.69006752597979\n",
      "     AB, AC, BA, BC, CA, CB :\n",
      "     [2 3] [-2  2] [-2 -3] [-4 -1] [ 2 -2] [4 1] \n",
      "\n",
      "iii) BAC, ABC, BCA, sum :\n",
      "     78.69 42.27 59.04 180.0\n"
     ]
    }
   ],
   "source": [
    "import numpy as np\n",
    "#i)\n",
    "A = np.array([1,2])\n",
    "B = np.array([3,5])\n",
    "C = np.array([-1,4])\n",
    "print(\"  i) A, B, C : \",A,B,C,\"\\n\")\n",
    "#ii)\n",
    "AB=B-A\n",
    "AC=C-A\n",
    "magAB = np.linalg.norm(AB)\n",
    "magAC = np.linalg.norm(AC)\n",
    "angleBAC=np.rad2deg(np.arccos(AB@AC/(magAB*magAC)))\n",
    "print(\" ii) BAC = \",angleBAC)\n",
    "#iii)\n",
    "BA=A-B\n",
    "BC=C-B\n",
    "magBA = np.linalg.norm(BA)\n",
    "magBC = np.linalg.norm(BC)\n",
    "angleABC=np.rad2deg(np.arccos(BA@BC/(magBA*magBC)))\n",
    "\n",
    "CA=A-C\n",
    "CB=B-C\n",
    "magCA = np.linalg.norm(CA)\n",
    "magCB = np.linalg.norm(CB)\n",
    "angleBCA=np.rad2deg(np.arccos(CA@CB/(magCA*magCB)))\n",
    "print(\"     AB, AC, BA, BC, CA, CB :\\n    \",AB,AC,BA,BC,CA,CB,\"\\n\")\n",
    "sum = angleABC + angleBAC + angleBCA\n",
    "print(\"iii) BAC, ABC, BCA, sum :\\n    \",round(angleBAC,2),round(angleABC,2),round(angleBCA,2),sum)\n"
   ]
  },
  {
   "cell_type": "markdown",
   "metadata": {},
   "source": [
    "https://nbviewer.org/github/ipython/ipython/blob/1.x/examples/notebooks/Part%205%20-%20Rich%20Display%20System.ipynb"
   ]
  },
  {
   "cell_type": "markdown",
   "metadata": {},
   "source": []
  }
 ],
 "metadata": {
  "interpreter": {
   "hash": "63fd5069d213b44bf678585dea6b12cceca9941eaf7f819626cde1f2670de90d"
  },
  "kernelspec": {
   "display_name": "Python 3.9.1 64-bit",
   "language": "python",
   "name": "python3"
  },
  "language_info": {
   "codemirror_mode": {
    "name": "ipython",
    "version": 3
   },
   "file_extension": ".py",
   "mimetype": "text/x-python",
   "name": "python",
   "nbconvert_exporter": "python",
   "pygments_lexer": "ipython3",
   "version": "3.8.3"
  },
  "orig_nbformat": 4
 },
 "nbformat": 4,
 "nbformat_minor": 2
}
