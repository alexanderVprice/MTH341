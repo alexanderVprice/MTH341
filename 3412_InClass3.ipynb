{
 "cells": [
  {
   "cell_type": "markdown",
   "metadata": {},
   "source": [
    "# <div align=\"center\"> MTH341 In-Class 2\n",
    "#### <div align=\"center\"> Defining functions in Python, Matricies\n",
    "<div align=\"right\"> Alexander Price"
   ]
  },
  {
   "cell_type": "markdown",
   "metadata": {},
   "source": [
    "#### <div align=\"center\"> Python Functions"
   ]
  },
  {
   "cell_type": "markdown",
   "metadata": {},
   "source": [
    "#### Exercise 1\n",
    "Read and predict the output of the following code:"
   ]
  },
  {
   "cell_type": "code",
   "execution_count": null,
   "metadata": {},
   "outputs": [],
   "source": [
    "def g(a,b):\n",
    "    z=a+b\n",
    "    return z\n",
    "c=5\n",
    "d=6\n",
    "e=g(c,d)\n",
    "print('c is',c)\n",
    "print('d is',d)\n",
    "print('e is',e)"
   ]
  },
  {
   "cell_type": "markdown",
   "metadata": {},
   "source": [
    "After predicting the output, run the code and check the result."
   ]
  },
  {
   "cell_type": "markdown",
   "metadata": {},
   "source": [
    "#### Exercise 2\n",
    "Write a Python function that takes in two arguments, and returns 5 times the first argument minus 2 times the second argument. Then write code that calls your function with some chosen numbers, assigns the output to a variable and prints the result."
   ]
  },
  {
   "cell_type": "code",
   "execution_count": null,
   "metadata": {},
   "outputs": [],
   "source": [
    "import numpy as np"
   ]
  },
  {
   "cell_type": "markdown",
   "metadata": {},
   "source": [
    "#### Exercise 3\n",
    "Write a Python function that takes in a value x, and returns the value sin(x)^5 + 2x +2."
   ]
  },
  {
   "cell_type": "code",
   "execution_count": null,
   "metadata": {},
   "outputs": [],
   "source": [
    "import numpy as np"
   ]
  },
  {
   "cell_type": "markdown",
   "metadata": {},
   "source": [
    "#### Exercise 4\n",
    "Write a python function that takes two variables u and v, which should be nuympy vectors, and returns the projection of v onto u.\n",
    "Use your function to calculate proj_u(v) when u=(1,4,2) and v=(-2,6,3.1)."
   ]
  },
  {
   "cell_type": "code",
   "execution_count": null,
   "metadata": {},
   "outputs": [],
   "source": [
    "import numpy as np"
   ]
  },
  {
   "cell_type": "markdown",
   "metadata": {},
   "source": [
    "#### <div align=\"center\"> Matricies"
   ]
  },
  {
   "cell_type": "markdown",
   "metadata": {},
   "source": [
    "#### Exercise 6\n",
    "Create a variable containing the matrix \n",
    "```\n",
    "( 6    2\n",
    " -3.2  4\n",
    "   2  -2 )\n",
    "```\n",
    "Using 2-d indexing, print out several elements of the array.\n",
    "\n"
   ]
  },
  {
   "cell_type": "code",
   "execution_count": null,
   "metadata": {},
   "outputs": [],
   "source": [
    "import numpy as np"
   ]
  },
  {
   "cell_type": "markdown",
   "metadata": {},
   "source": [
    "#### Exercise 7\n",
    "Create a numpy arrary containing the matrix\n",
    "```\n",
    "( 2   -2    3\n",
    "  1    5    5\n",
    "  7    3   -1 )\n",
    "```\n",
    "Using slice syntax, perform the row operation R1 <-- 3R1\n"
   ]
  },
  {
   "cell_type": "code",
   "execution_count": null,
   "metadata": {},
   "outputs": [],
   "source": [
    "import numpy as np"
   ]
  },
  {
   "cell_type": "markdown",
   "metadata": {},
   "source": [
    "#### Exercise 8\n",
    "Consider the linear system\n",
    "```\n",
    "-2x - 3y + z  =  4\n",
    " 4x + 8y - 5z = -6\n",
    " 6x + 5y + 5z = -20\n",
    "```\n",
    "Create the augmented matrix for this linear system as a 3x4 numpy array. Using slice syntax, perform all the row operations needed to transform the matrix into row-echelon form."
   ]
  },
  {
   "cell_type": "code",
   "execution_count": null,
   "metadata": {},
   "outputs": [],
   "source": [
    "import numpy as np"
   ]
  }
 ],
 "metadata": {
  "interpreter": {
   "hash": "63fd5069d213b44bf678585dea6b12cceca9941eaf7f819626cde1f2670de90d"
  },
  "kernelspec": {
   "display_name": "Python 3.9.1 64-bit",
   "language": "python",
   "name": "python3"
  },
  "language_info": {
   "codemirror_mode": {
    "name": "ipython",
    "version": 3
   },
   "file_extension": ".py",
   "mimetype": "text/x-python",
   "name": "python",
   "nbconvert_exporter": "python",
   "pygments_lexer": "ipython3",
   "version": "3.8.3"
  },
  "orig_nbformat": 4
 },
 "nbformat": 4,
 "nbformat_minor": 2
}
